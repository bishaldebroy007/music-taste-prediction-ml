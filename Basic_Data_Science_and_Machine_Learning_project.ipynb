{
  "nbformat": 4,
  "nbformat_minor": 0,
  "metadata": {
    "colab": {
      "provenance": []
    },
    "kernelspec": {
      "name": "python3",
      "display_name": "Python 3"
    },
    "language_info": {
      "name": "python"
    }
  },
  "cells": [
    {
      "cell_type": "code",
      "execution_count": 20,
      "metadata": {
        "id": "-Jo5wzK-qOdu"
      },
      "outputs": [],
      "source": [
        "import pandas as pd\n",
        "import numpy as np\n",
        "import seaborn as sns\n",
        "import matplotlib.pyplot as plt\n",
        "\n",
        "from sklearn.tree import DecisionTreeClassifier  # Algorithm\n",
        "\n",
        "from sklearn.model_selection import train_test_split  # for training & testing!\n",
        "\n",
        "from sklearn.metrics import accuracy_score  # for calculating accuracy!\n",
        "\n",
        "# Instead of importing from sklearn.externals, import joblib directly as it, itself is a library now.\n",
        "import joblib  # for persisting models! It can be used to reuse a trained model\n",
        "\n",
        "from sklearn import tree  # for visualizing decision tree!"
      ]
    },
    {
      "cell_type": "code",
      "source": [
        "data_music = pd.read_csv(\"music.csv\")  # not an authentic dataset, collected form internet just for practice purpose.\n",
        "data_music\n",
        "\n",
        "data_music.shape"
      ],
      "metadata": {
        "id": "HIzhQ-77N0YX",
        "colab": {
          "base_uri": "https://localhost:8080/"
        },
        "outputId": "ec2dd5c2-58c6-4b2f-e78c-7df503cb8816"
      },
      "execution_count": 24,
      "outputs": [
        {
          "output_type": "execute_result",
          "data": {
            "text/plain": [
              "(18, 3)"
            ]
          },
          "metadata": {},
          "execution_count": 24
        }
      ]
    },
    {
      "cell_type": "code",
      "source": [
        "# Preparing data>\n",
        "# Have to create 2 types of set> input set(x) and output set(y).\n",
        "\n",
        "# importing the data set and setting it up\n",
        "x = data_music.drop(columns = [\"genre\"])  # by convension we assign the input dataset with x, it will not modify the actual dataset instead it will just create a new one.\n",
        "y = data_music[\"genre\"] # Creating a seperation of x and y\n",
        "y"
      ],
      "metadata": {
        "colab": {
          "base_uri": "https://localhost:8080/",
          "height": 648
        },
        "collapsed": true,
        "id": "T_4FP4j6J3Z6",
        "outputId": "9b6eafc5-657e-4c99-8099-25a2e8f10b0d"
      },
      "execution_count": 3,
      "outputs": [
        {
          "output_type": "execute_result",
          "data": {
            "text/plain": [
              "0        HipHop\n",
              "1        HipHop\n",
              "2        HipHop\n",
              "3          Jazz\n",
              "4          Jazz\n",
              "5          Jazz\n",
              "6     Classical\n",
              "7     Classical\n",
              "8     Classical\n",
              "9         Dance\n",
              "10        Dance\n",
              "11        Dance\n",
              "12     Acoustic\n",
              "13     Acoustic\n",
              "14     Acoustic\n",
              "15    Classical\n",
              "16    Classical\n",
              "17    Classical\n",
              "Name: genre, dtype: object"
            ],
            "text/html": [
              "<div>\n",
              "<style scoped>\n",
              "    .dataframe tbody tr th:only-of-type {\n",
              "        vertical-align: middle;\n",
              "    }\n",
              "\n",
              "    .dataframe tbody tr th {\n",
              "        vertical-align: top;\n",
              "    }\n",
              "\n",
              "    .dataframe thead th {\n",
              "        text-align: right;\n",
              "    }\n",
              "</style>\n",
              "<table border=\"1\" class=\"dataframe\">\n",
              "  <thead>\n",
              "    <tr style=\"text-align: right;\">\n",
              "      <th></th>\n",
              "      <th>genre</th>\n",
              "    </tr>\n",
              "  </thead>\n",
              "  <tbody>\n",
              "    <tr>\n",
              "      <th>0</th>\n",
              "      <td>HipHop</td>\n",
              "    </tr>\n",
              "    <tr>\n",
              "      <th>1</th>\n",
              "      <td>HipHop</td>\n",
              "    </tr>\n",
              "    <tr>\n",
              "      <th>2</th>\n",
              "      <td>HipHop</td>\n",
              "    </tr>\n",
              "    <tr>\n",
              "      <th>3</th>\n",
              "      <td>Jazz</td>\n",
              "    </tr>\n",
              "    <tr>\n",
              "      <th>4</th>\n",
              "      <td>Jazz</td>\n",
              "    </tr>\n",
              "    <tr>\n",
              "      <th>5</th>\n",
              "      <td>Jazz</td>\n",
              "    </tr>\n",
              "    <tr>\n",
              "      <th>6</th>\n",
              "      <td>Classical</td>\n",
              "    </tr>\n",
              "    <tr>\n",
              "      <th>7</th>\n",
              "      <td>Classical</td>\n",
              "    </tr>\n",
              "    <tr>\n",
              "      <th>8</th>\n",
              "      <td>Classical</td>\n",
              "    </tr>\n",
              "    <tr>\n",
              "      <th>9</th>\n",
              "      <td>Dance</td>\n",
              "    </tr>\n",
              "    <tr>\n",
              "      <th>10</th>\n",
              "      <td>Dance</td>\n",
              "    </tr>\n",
              "    <tr>\n",
              "      <th>11</th>\n",
              "      <td>Dance</td>\n",
              "    </tr>\n",
              "    <tr>\n",
              "      <th>12</th>\n",
              "      <td>Acoustic</td>\n",
              "    </tr>\n",
              "    <tr>\n",
              "      <th>13</th>\n",
              "      <td>Acoustic</td>\n",
              "    </tr>\n",
              "    <tr>\n",
              "      <th>14</th>\n",
              "      <td>Acoustic</td>\n",
              "    </tr>\n",
              "    <tr>\n",
              "      <th>15</th>\n",
              "      <td>Classical</td>\n",
              "    </tr>\n",
              "    <tr>\n",
              "      <th>16</th>\n",
              "      <td>Classical</td>\n",
              "    </tr>\n",
              "    <tr>\n",
              "      <th>17</th>\n",
              "      <td>Classical</td>\n",
              "    </tr>\n",
              "  </tbody>\n",
              "</table>\n",
              "</div><br><label><b>dtype:</b> object</label>"
            ]
          },
          "metadata": {},
          "execution_count": 3
        }
      ]
    },
    {
      "cell_type": "code",
      "source": [
        "# learning and Predecting\n",
        "# Algorithm: Descision tree algorithm\n",
        "\n",
        "model = DecisionTreeClassifier() # creating a model\n",
        "model.fit(x, y) # training the model\n",
        "\n",
        "# asking it to make predictions\n",
        "predictions = model.predict([[21, 1], [22, 0]])  # Tesing the model with data that is not available in the dataset directly. [age, gender]\n",
        "predictions"
      ],
      "metadata": {
        "colab": {
          "base_uri": "https://localhost:8080/"
        },
        "id": "RklM6ox0J6JY",
        "outputId": "2b8f66ff-1fcb-498b-c4a4-ee057931d994"
      },
      "execution_count": 7,
      "outputs": [
        {
          "output_type": "stream",
          "name": "stderr",
          "text": [
            "/usr/local/lib/python3.10/dist-packages/sklearn/base.py:493: UserWarning: X does not have valid feature names, but DecisionTreeClassifier was fitted with feature names\n",
            "  warnings.warn(\n"
          ]
        },
        {
          "output_type": "execute_result",
          "data": {
            "text/plain": [
              "array(['HipHop', 'Dance'], dtype=object)"
            ]
          },
          "metadata": {},
          "execution_count": 7
        }
      ]
    },
    {
      "cell_type": "code",
      "source": [
        "# Calculating Accuracy:\n",
        "\n",
        "\n",
        "x = data_music.drop(columns = [\"genre\"])\n",
        "y = data_music[\"genre\"]\n",
        "x_train, x_test, y_train, y_test = train_test_split(x, y, test_size = 0.2) # here x indicates input, y indicates output and test_size = 20%\n",
        "\n",
        "model = DecisionTreeClassifier()\n",
        "model.fit(x_train, y_train)\n",
        "predictions = model.predict(x_test)\n",
        "\n",
        "# accuracy:\n",
        "score = accuracy_score(y_test, predictions)\n",
        "score"
      ],
      "metadata": {
        "colab": {
          "base_uri": "https://localhost:8080/"
        },
        "id": "GRZBuUitP8uE",
        "outputId": "f91c7f8b-ce2b-4d41-d7fd-310eef189a59"
      },
      "execution_count": 17,
      "outputs": [
        {
          "output_type": "execute_result",
          "data": {
            "text/plain": [
              "0.25"
            ]
          },
          "metadata": {},
          "execution_count": 17
        }
      ]
    },
    {
      "cell_type": "code",
      "source": [
        "# Persisting Models:\n",
        "\n",
        "#x = data_music.drop(columns = [\"genre\"])  # by convension we assign the input dataset with x, it will not modify the actual dataset instead it will just create a new one.\n",
        "#y = data_music[\"genre\"] # Creating a seperation of x and y\n",
        "\n",
        "#model = DecisionTreeClassifier() # creating a model\n",
        "#model.fit(x, y) # training the model\n",
        "\n",
        "#joblib.dump(model, \"music-recommender.joblib\") # persisting the model\n",
        "\n",
        "\n",
        "# After that we do not need to train it again just simply writing this code will be enough:\n",
        "\n",
        "# model = joblib.load(\"music-recommender.joblib\")  # loading it\n",
        "# predictions = model.predict([[21, 1]]) # asking it to make predictions\n",
        "# predictions"
      ],
      "metadata": {
        "id": "S-KO1RKqb5_j"
      },
      "execution_count": 18,
      "outputs": []
    },
    {
      "cell_type": "code",
      "source": [
        "# visual representation  of decision tree:\n",
        "\n",
        "x = data_music.drop(columns = [\"genre\"])  # by convension we assign the input dataset with x, it will not modify the actual dataset instead it will just create a new one.\n",
        "y = data_music[\"genre\"] # Creating a seperation of x and y\n",
        "\n",
        "model = DecisionTreeClassifier() # creating a model\n",
        "model.fit(x, y) # training the model\n",
        "\n",
        "tree.export_graphviz(model, out_file = \"music-recommender.dot\",\n",
        "                    feature_names = [\"age\", \"gender\"],\n",
        "                    class_names = sorted(y.unique()),\n",
        "                    label = \"all\",\n",
        "                    rounded = True,\n",
        "                    filled = True)\n"
      ],
      "metadata": {
        "id": "vYv_JAoMdkAY"
      },
      "execution_count": 22,
      "outputs": []
    }
  ]
}